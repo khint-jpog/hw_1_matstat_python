{
 "cells": [
  {
   "cell_type": "code",
   "execution_count": 2,
   "metadata": {},
   "outputs": [
    {
     "data": {
      "image/png": "[encoded data removed]",
      "text/plain": [
       "<Figure size 432x288 with 1 Axes>"
      ]
     },
     "metadata": {
      "needs_background": "light"
     },
     "output_type": "display_data"
    }
   ],
   "source": [
    "# --------\n",
    "# Потанин Богдан Станиславович\n",
    "# Математическая Статистика в Python\n",
    "# Урок 5. Выборочные характеристики\n",
    "# --------\n",
    "# --------\n",
    "# Часть №1. Выборочные характеристики\n",
    "# --------\n",
    "import sys\n",
    "import math\n",
    "import pandas as pd\n",
    "import scipy\n",
    "import matplotlib.pyplot as plt\n",
    "import seaborn as sns\n",
    "from scipy.stats import t, chi2, f, norm, poisson, binom, uniform\n",
    "import numpy as np\n",
    "np.random.seed(123)                                     \n",
    "x = t.rvs(size = 10000,                        \n",
    "      df = 10)                            \n",
    "\n",
    "# Рассчитаем основные выборочные характеристики\n",
    "np.mean(x)                                              # выборочное среднее\n",
    "np.var(x)                                               # выборочная дисперсия\n",
    "np.var(x, ddof = 1)                                     # скорректированная выборочная дисперсия\n",
    "np.median(x)                                            # выборочная медиана\n",
    "np.quantile(x, 0.3)                                     # выборочная квантиль уровня 0.3\n",
    "np.mean(x ** 3)                                         # выборочный начальный момент 3-го порядка\n",
    "np.sort(x)                                              # реализация вариационного ряда\n",
    "# Сформируем выборку из Хи-квадрат\n",
    "# распределения с df степенями свободы\n",
    "np.random.seed(123)                                     # для воспроизводимости результатов, полученных с использованием\n",
    "                                                        # выборок, необходима установка случайного зерна\n",
    "n = 100                                                 # переменная, хранящая объем выборки\n",
    "df = 5                                                  # переменная, хранящая число степеней свободы\n",
    "x = chi2.rvs(size = n,                                  # объем выборки\n",
    "             df = df)                                   # число степеней свободы\n",
    "\n",
    "# Рассчитаем основные выборочные характеристики\n",
    "np.mean(x)                                              # выборочное среднее\n",
    "np.var(x)                                               # выборочная дисперсия\n",
    "np.var(x, ddof = 1)                                     # скорректированная выборочная дисперсия\n",
    "np.median(x)                                            # выборочная медиана\n",
    "np.quantile(x, 0.3)                                     # выборочная квантиль уровня 0.3\n",
    "np.mean(x ** 3)                                         # выборочный начальный момент 3-го порядка\n",
    "np.sort(x)                                              # реализация вариационного ряда\n",
    "\n",
    "# Визуализируем, приблизительно, распределение\n",
    "# выборочного среднего при помощи гистограммы\n",
    "    # Сперва получим выборку из\n",
    "    # выборочных средних, используя для\n",
    "    # этого несколько независимых выборок\n",
    "    # равного объема из одного и того\n",
    "    # же распределения\n",
    "m = 1000                                                # количество независимых выборок равного объема\n",
    "                                                        # из одного и того же распределения\n",
    "x_mean = np.empty(m)                                    # вектор, который будет содержать выборку\n",
    "                                                        # из реализаций выборочного среднего\n",
    "for i in range(0, m):\n",
    "    x_new = chi2.rvs(size = n, df = df)\n",
    "    x_mean[i] = np.mean(x_new)\n",
    "x_mean = np.sort(x_mean)                                # для удобства отсортируем реализации выборочных средних\n",
    "    # Воспользуемся гистограммой\n",
    "f_x = norm.pdf(x_mean, loc = df,                        # при помощи ЦПТ находим истинное распределение выборочного\n",
    "               scale = math.sqrt(2 * df / n))           # среднего и считаем по нему значения функции плотности\n",
    "plt.xlabel('x')                                         # название нижней оси графика\n",
    "plt.ylabel('f(x)')                                      # название верхней оси графика\n",
    "plt.plot(x_mean, f_x, '--', markersize = 20,            # график теоретической функции распределения (по ЦПТ)\n",
    "  label = \"PDF\", color = \"limegreen\")\n",
    "sns.histplot(x_mean, stat = 'density',              # гистограмма как график выборочной функции плотности\n",
    "                 color = \"palevioletred\",\n",
    "                 label = \"histogram\",\n",
    "                 bins = 15)                             # число столбиков в Гистограмме\n",
    "plt.legend()\n",
    "\n",
    "# --------\n",
    "# Часть №2. Характеристики зависимых выборок\n",
    "# --------\n",
    "\n",
    "# Симулируем выборку из двумерного\n",
    "# нормального распределения\n",
    "    # Зададим параметры распределения X и Y\n",
    "mu_X = 100                                              # E(X)\n",
    "mu_Y = 110                                              # E(Y)\n",
    "var_X = 25                                              # Var(X)\n",
    "var_Y = 36                                              # Var(Y)\n",
    "corr_XY = -0.5                                          # Corr(X, Y)\n",
    "cov_XY = math.sqrt(var_X * var_Y) *  corr_XY            # Cov(X, Y)\n",
    "    # Зададим параметры распределения\n",
    "    # случайного вектора (X, Y)\n",
    "mu = np.array([mu_X, mu_Y])                             # E((X, Y))\n",
    "sigma = np.array([[var_X, cov_XY],                      # Cov((X, Y))\n",
    "                  [cov_XY, var_Y]])\n",
    "    # Симулируем выборку\n",
    "n = 1000\n",
    "#s = multivariate_normal.rvs(size = n,                   # объем выборки\n",
    "#                             mean = mu,                 # E((X, Y))\n",
    "#                             cov = sigma)               # Cov((X, Y))\n",
    "#x = s[:, 0]                                             # реализации первой выборки\n",
    "#y = s[:, 1]                                             # реализации второй выборки\n",
    "\n",
    "# Рассмотрим выборочные характеристики, описывающие\n",
    "# зависимость между X и Y\n",
    "#np.cov(x, y)                                            # выборочная ковариационная матрица\n",
    "#np.corrcoef(x, y)                                       # выборочная корреляционная матрица"
   ]
  },
  {
   "cell_type": "code",
   "execution_count": 3,
   "metadata": {},
   "outputs": [],
   "source": [
    "import numpy as np"
   ]
  },
  {
   "cell_type": "code",
   "execution_count": 4,
   "metadata": {},
   "outputs": [],
   "source": [
    "import sys\n",
    "import math\n",
    "import pandas as pd\n",
    "import numpy as np\n",
    "import scipy\n",
    "import matplotlib.pyplot as plt\n",
    "import seaborn as sns\n",
    "from scipy.stats import t, chi2, f, norm, poisson, binom, uniform, multivariate_normal\n",
    "np.set_printoptions(suppress = True)   "
   ]
  },
  {
   "cell_type": "code",
   "execution_count": 5,
   "metadata": {},
   "outputs": [],
   "source": [
    "# 1. Визуализируйте для выборки объема 5000 из распределения\n",
    "#    Стьюдента с 10-ю степенями свободы, при помощи Гистограммы,\n",
    "#    распределение:"
   ]
  },
  {
   "cell_type": "code",
   "execution_count": 6,
   "metadata": {},
   "outputs": [
    {
     "data": {
      "text/plain": [
       "<matplotlib.legend.Legend at 0x7f823fb4e040>"
      ]
     },
     "execution_count": 6,
     "metadata": {},
     "output_type": "execute_result"
    },
    {
     "data": {
      "image/png": "[encoded data removed]",
      "text/plain": [
       "<Figure size 432x288 with 1 Axes>"
      ]
     },
     "metadata": {
      "needs_background": "light"
     },
     "output_type": "display_data"
    }
   ],
   "source": [
    "#    1)     Второго начального выборочного момента\n",
    "m = 5000                                                                                            \n",
    "x_mean = np.empty(m)                               \n",
    "n = 5000                                           \n",
    "for i in range(0, m):\n",
    "    x_new = t.rvs(size = 5000, df = 10)\n",
    "    x_mean[i] = np.mean(x_new**2)\n",
    "x_mean = np.sort(x_mean)                       \n",
    "plt.xlabel('x')                                                                      \n",
    "sns.histplot(x_mean, stat = 'density', color = \"palevioletred\",label = \"histogram\", bins = 15)                          \n",
    "plt.legend()"
   ]
  },
  {
   "cell_type": "code",
   "execution_count": 7,
   "metadata": {},
   "outputs": [
    {
     "data": {
      "text/plain": [
       "<matplotlib.legend.Legend at 0x7f823fce38b0>"
      ]
     },
     "execution_count": 7,
     "metadata": {},
     "output_type": "execute_result"
    },
    {
     "data": {
      "image/png": "[encoded data removed]",
      "text/plain": [
       "<Figure size 432x288 with 1 Axes>"
      ]
     },
     "metadata": {
      "needs_background": "light"
     },
     "output_type": "display_data"
    }
   ],
   "source": [
    "m = 5000                                        \n",
    "#    2)     Выборочной дисперсии                                                     \n",
    "x_mean = np.empty(m)                                 \n",
    "n = 5000                                             \n",
    "for i in range(0, m):\n",
    "    x_new = t.rvs(size = 5000, df = 10)\n",
    "    x_mean[i] = np.mean(np.var(x_new))\n",
    "x_mean = np.sort(x_mean)                             \n",
    "plt.xlabel('x')                                                                        \n",
    "sns.histplot(x_mean, stat = 'density',color = \"palevioletred\",label = \"histogram\",bins = 15)                          \n",
    "plt.legend()"
   ]
  },
  {
   "cell_type": "code",
   "execution_count": 8,
   "metadata": {},
   "outputs": [
    {
     "data": {
      "text/plain": [
       "<matplotlib.legend.Legend at 0x7f823fe2d790>"
      ]
     },
     "execution_count": 8,
     "metadata": {},
     "output_type": "execute_result"
    },
    {
     "data": {
      "image/png": "[encoded data removed]",
      "text/plain": [
       "<Figure size 432x288 with 1 Axes>"
      ]
     },
     "metadata": {
      "needs_background": "light"
     },
     "output_type": "display_data"
    }
   ],
   "source": [
    "m = 5000                                           \n",
    "#    3)     Выборочной медианы                  \n",
    "x_mean = np.empty(m)                               \n",
    "n = 5000                                           \n",
    "for i in range(0, m):\n",
    "    x_new = t.rvs(size = 5000, df = 10)\n",
    "    x_mean[i] = np.mean(np.median(x_new))\n",
    "x_mean = np.sort(x_mean)                            \n",
    "plt.xlabel('x')                                    \n",
    "sns.histplot(x_mean, stat = 'density',color = \"palevioletred\",label = \"histogram\",bins = 15)                        \n",
    "plt.legend()"
   ]
  },
  {
   "cell_type": "code",
   "execution_count": 9,
   "metadata": {},
   "outputs": [
    {
     "data": {
      "text/plain": [
       "<matplotlib.legend.Legend at 0x7f823ff410a0>"
      ]
     },
     "execution_count": 9,
     "metadata": {},
     "output_type": "execute_result"
    },
    {
     "data": {
      "image/png": "[encoded data removed]",
      "text/plain": [
       "<Figure size 432x288 with 1 Axes>"
      ]
     },
     "metadata": {
      "needs_background": "light"
     },
     "output_type": "display_data"
    }
   ],
   "source": [
    "m = 5000                                                # количество независимых выборок равного объема\n",
    "#    4)     Третьей порядковой статистики, то есть\n",
    "#           третьего элемента вариационного ряда                                                        # из одного и того же распределения\n",
    "x_mean = np.empty(m)                                \n",
    "n = 5000                                            \n",
    "for i in range(0, m):\n",
    "    x_new = t.rvs(size = 5000, df = 10)\n",
    "    x_mean[i] = np.sort(x_new)[2]\n",
    "x_mean = np.sort(x_mean)                            \n",
    "f_x = norm.pdf(x_mean, loc = 10,                   \n",
    "               scale = math.sqrt(2 * 10 / 5000))    \n",
    "plt.xlabel('x')                                                                    \n",
    "sns.histplot(x_mean, stat = 'density',color = \"palevioletred\",label = \"histogram\",bins = 15)                         \n",
    "plt.legend()"
   ]
  },
  {
   "cell_type": "code",
   "execution_count": 10,
   "metadata": {},
   "outputs": [
    {
     "data": {
      "text/plain": [
       "<matplotlib.legend.Legend at 0x7f8240078be0>"
      ]
     },
     "execution_count": 10,
     "metadata": {},
     "output_type": "execute_result"
    },
    {
     "data": {
      "image/png": "[encoded data removed]",
      "text/plain": [
       "<Figure size 432x288 with 1 Axes>"
      ]
     },
     "metadata": {
      "needs_background": "light"
     },
     "output_type": "display_data"
    }
   ],
   "source": [
    "m = 5000                                          \n",
    "#    5)     Выборочной квантили уровня 0.8       \n",
    "x_mean = np.empty(m)                              \n",
    "n = 5000                                          \n",
    "for i in range(0, m):\n",
    "    x_new = t.rvs(size = 5000, df = 10)\n",
    "    x_mean[i] = np.mean(np.quantile(x_new, 0.8))\n",
    "x_mean = np.sort(x_mean)                          \n",
    "plt.xlabel('x')                                                                  \n",
    "sns.histplot(x_mean, stat = 'density',color = \"palevioletred\",label = \"histogram\",bins = 15)                       \n",
    "plt.legend() "
   ]
  },
  {
   "cell_type": "code",
   "execution_count": 11,
   "metadata": {},
   "outputs": [],
   "source": [
    "# 2. Повторите предыдущий пункт, но визуализируя не\n",
    "#    выборочные, а истинные распределения. В некоторых\n",
    "#    пунктах удобно использовать ЦПТ, в других - распределение\n",
    "#    необходимо выводить иными способами.\n"
   ]
  },
  {
   "cell_type": "code",
   "execution_count": null,
   "metadata": {},
   "outputs": [],
   "source": []
  },
  {
   "cell_type": "code",
   "execution_count": 12,
   "metadata": {},
   "outputs": [],
   "source": [
    "# 3. Симулируйте три независимых выборки объемом в 5000 наблюдений\n",
    "#    из стандартного равномерного распределения. Получите из этих\n",
    "#    двух выборок две сложив первую со второй, а вторую - с третьей.\n",
    "#    Для получившихся выборок:"
   ]
  },
  {
   "cell_type": "code",
   "execution_count": 13,
   "metadata": {},
   "outputs": [],
   "source": [
    "x1 = norm.rvs(size = 5000, loc = 0, scale = 1)   "
   ]
  },
  {
   "cell_type": "code",
   "execution_count": 14,
   "metadata": {},
   "outputs": [],
   "source": [
    "x2 = norm.rvs(size = 5000, loc = 0,scale = 1)  \n",
    "x3 = norm.rvs(size = 5000, loc = 0,scale = 1)  "
   ]
  },
  {
   "cell_type": "code",
   "execution_count": 15,
   "metadata": {},
   "outputs": [
    {
     "data": {
      "text/plain": [
       "array([ 0.75335431,  1.47946955, -2.27669863, ...,  0.47937434,\n",
       "       -0.39319786, -2.02148347])"
      ]
     },
     "execution_count": 15,
     "metadata": {},
     "output_type": "execute_result"
    }
   ],
   "source": [
    "x_n1 = x1+x2\n",
    "x_n1"
   ]
  },
  {
   "cell_type": "code",
   "execution_count": 16,
   "metadata": {},
   "outputs": [
    {
     "data": {
      "text/plain": [
       "array([-0.18145333, -0.21272643, -0.55859322, ..., -0.42338636,\n",
       "       -1.29861346,  0.00307768])"
      ]
     },
     "execution_count": 16,
     "metadata": {},
     "output_type": "execute_result"
    }
   ],
   "source": [
    "x_n2 = x2+x3\n",
    "x_n2"
   ]
  },
  {
   "cell_type": "code",
   "execution_count": 17,
   "metadata": {},
   "outputs": [
    {
     "data": {
      "text/plain": [
       "array([[2.04123956, 1.0178211 ],\n",
       "       [1.0178211 , 1.95167277]])"
      ]
     },
     "execution_count": 17,
     "metadata": {},
     "output_type": "execute_result"
    }
   ],
   "source": [
    "#Посчитайте выборочную ковариационную матрицу\n",
    "np.cov(x_n1, x_n2)                                           "
   ]
  },
  {
   "cell_type": "code",
   "execution_count": 18,
   "metadata": {},
   "outputs": [
    {
     "data": {
      "text/plain": [
       "array([[1.        , 0.50994221],\n",
       "       [0.50994221, 1.        ]])"
      ]
     },
     "execution_count": 18,
     "metadata": {},
     "output_type": "execute_result"
    }
   ],
   "source": [
    "#Рассчитайте выборочную корреляционную матрицу\n",
    "np.corrcoef(x_n1, x_n2) "
   ]
  },
  {
   "cell_type": "code",
   "execution_count": 19,
   "metadata": {},
   "outputs": [
    {
     "data": {
      "text/plain": [
       "<matplotlib.legend.Legend at 0x7f823fbfc250>"
      ]
     },
     "execution_count": 19,
     "metadata": {},
     "output_type": "execute_result"
    },
    {
     "data": {
      "image/png": "[encoded data removed]",
      "text/plain": [
       "<Figure size 432x288 with 1 Axes>"
      ]
     },
     "metadata": {
      "needs_background": "light"
     },
     "output_type": "display_data"
    }
   ],
   "source": [
    "#При помощи гистограммы визуализируйте распределение\n",
    "#           выборочной корреляции\n",
    "m = 1000                                                                                   \n",
    "x = np.empty(m)                                \n",
    "                                                       \n",
    "for i in range(0, m):\n",
    "    x1 = norm.rvs(size = 5000, loc = 0, scale = 1) \n",
    "    x2 = norm.rvs(size = 5000, loc = 0, scale = 1)  \n",
    "    x3 = norm.rvs(size = 5000, loc = 0, scale = 1)  \n",
    "    x_n1 = x1+x2\n",
    "    x_n2 = x2+x3\n",
    "    x[i] = np.corrcoef(x_n1, x_n2)[1][0]\n",
    "x = np.sort(x_mean)                                     \n",
    "sns.histplot(x, stat = 'density', color = \"palevioletred\",label = \"histogram\",bins = 15)                           \n",
    "plt.legend()"
   ]
  },
  {
   "cell_type": "code",
   "execution_count": 20,
   "metadata": {},
   "outputs": [],
   "source": [
    "# 4. Самостоятельно запрограммируйте функции, позволяющие рассчитывать"
   ]
  },
  {
   "cell_type": "code",
   "execution_count": 21,
   "metadata": {},
   "outputs": [],
   "source": [
    "#    1)     Выборочное среднее\n",
    "def srednee(x):\n",
    "    return sum(x)/len(x)"
   ]
  },
  {
   "cell_type": "code",
   "execution_count": 22,
   "metadata": {},
   "outputs": [],
   "source": [
    "#    2)     Выборочную дисперсию\n",
    "def disp(x):\n",
    "    return srednee(x**2) - (srednee(x))**2"
   ]
  },
  {
   "cell_type": "code",
   "execution_count": 23,
   "metadata": {},
   "outputs": [],
   "source": [
    "#    3*)    Выборочную медиану\n",
    "def median(x):\n",
    "    return np.quantile(x, 0.5)"
   ]
  },
  {
   "cell_type": "code",
   "execution_count": 24,
   "metadata": {},
   "outputs": [],
   "source": [
    "#    4)     Порядковые статистики\n",
    "# не знаю"
   ]
  },
  {
   "cell_type": "code",
   "execution_count": 25,
   "metadata": {},
   "outputs": [],
   "source": [
    "#    5*)    Выборочную ковариационную матрицу\n",
    "def cov(x,y):\n",
    "    return np.mean((x-np.mean(x))(y-np.mean(y)).T)"
   ]
  },
  {
   "cell_type": "code",
   "execution_count": 26,
   "metadata": {},
   "outputs": [],
   "source": [
    "# 5. Симулируйте три независимые выборки: две из стандартного нормального\n",
    "#    распределения и одну из Хи-Квадрат распределения с двумя степенями\n",
    "#    свободы. Сформируйте еще одну выборку сложив квадраты выборок из\n",
    "#    стандартных нормальных распределений. Сравните выборочные характеристики\n",
    "#    получившейся выборки с выборочными характеристиками выборки из Хи-Квадрат\n",
    "#    распределения с двумя степенями свободы. Сделайте выводы о причинах\n",
    "#    налблюдаемого сходства в выборочных характеристиках."
   ]
  },
  {
   "cell_type": "code",
   "execution_count": 27,
   "metadata": {},
   "outputs": [],
   "source": [
    "xs = norm.rvs(size = 100000,loc = 0, scale = 1)      "
   ]
  },
  {
   "cell_type": "code",
   "execution_count": 28,
   "metadata": {},
   "outputs": [],
   "source": [
    "xs2 = norm.rvs(size = 100000,loc = 0, scale = 1)      "
   ]
  },
  {
   "cell_type": "code",
   "execution_count": 29,
   "metadata": {},
   "outputs": [],
   "source": [
    "ch = chi2.rvs(size = 100000,df = 2)    "
   ]
  },
  {
   "cell_type": "code",
   "execution_count": 30,
   "metadata": {},
   "outputs": [],
   "source": [
    "chfake = xs**2+xs2**2"
   ]
  },
  {
   "cell_type": "code",
   "execution_count": 31,
   "metadata": {},
   "outputs": [
    {
     "name": "stdout",
     "output_type": "stream",
     "text": [
      "2.012419489783326 4.04204146637424 4.0420818871931115 1.3937004180917776 0.7182579080468052 48.52621294044254 [ 0.00000361  0.00000557  0.00006004 ... 19.38357228 19.60145837\n",
      " 20.88787315]\n",
      "1.9932063144014378 3.982048233288702 3.9820880541692434 1.3822629085601528 0.7141903465004127 47.83117137642064 [ 0.00005158  0.00005887  0.00009332 ... 21.62823962 21.64969214\n",
      " 23.75670729]\n"
     ]
    }
   ],
   "source": [
    "print(np.mean(chfake),np.var(chfake),np.var(chfake, ddof = 1),np.median(chfake),np.quantile(chfake, 0.3),np.mean(chfake ** 3),np.sort(chfake))    \n",
    "print(np.mean(ch),np.var(ch),np.var(ch, ddof = 1),np.median(ch),np.quantile(ch, 0.3),np.mean(ch ** 3),np.sort(ch)) "
   ]
  },
  {
   "cell_type": "code",
   "execution_count": null,
   "metadata": {},
   "outputs": [],
   "source": []
  }
 ],
 "metadata": {
  "kernelspec": {
   "display_name": "Python 3",
   "language": "python",
   "name": "python3"
  },
  "language_info": {
   "codemirror_mode": {
    "name": "ipython",
    "version": 3
   },
   "file_extension": ".py",
   "mimetype": "text/x-python",
   "name": "python",
   "nbconvert_exporter": "python",
   "pygments_lexer": "ipython3",
   "version": "3.8.3"
  }
 },
 "nbformat": 4,
 "nbformat_minor": 2
}
